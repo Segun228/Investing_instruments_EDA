{
 "cells": [
  {
   "cell_type": "markdown",
   "id": "8cfec94f",
   "metadata": {},
   "source": [
    "# Разведывательный анализ данных"
   ]
  },
  {
   "cell_type": "code",
   "execution_count": null,
   "id": "86833bd7",
   "metadata": {},
   "outputs": [],
   "source": [
    "%pip install numpy pandas matplotlib seaborn scikit-learn"
   ]
  },
  {
   "cell_type": "markdown",
   "id": "86b4026e",
   "metadata": {},
   "source": [
    "[Скачать датасет]()"
   ]
  },
  {
   "cell_type": "code",
   "execution_count": null,
   "id": "6c6a7402",
   "metadata": {},
   "outputs": [],
   "source": [
    "import pandas as pd\n",
    "import numpy as np\n",
    "import seaborn as sns\n",
    "import scipy.stats as stats\n",
    "import matplotlib as mplb\n",
    "import matplotlib.pyplot as plt\n",
    "import warnings\n",
    "from scipy.stats import spearmanr, pearsonr"
   ]
  },
  {
   "cell_type": "code",
   "execution_count": null,
   "id": "0d9ffb91",
   "metadata": {},
   "outputs": [],
   "source": [
    "pd.set_option('display.max_columns', 100)\n",
    "pd.set_option('display.float_format', '{:.2f}'.format)\n",
    "pd.set_option('display.max_rows', None)\n",
    "warnings.filterwarnings('ignore')"
   ]
  },
  {
   "cell_type": "markdown",
   "id": "be0dc016",
   "metadata": {},
   "source": [
    "### Считываем данные "
   ]
  },
  {
   "cell_type": "code",
   "execution_count": null,
   "id": "a034ffb9",
   "metadata": {},
   "outputs": [],
   "source": [
    "df = pd.read_csv(\n",
    "    filepath_or_buffer=\"./invest_db.csv\",\n",
    "    delimiter=\";\",\n",
    "    parse_dates=[\"date\", \"invest_utilization_dt\"]\n",
    ")"
   ]
  },
  {
   "cell_type": "markdown",
   "id": "0a58961e",
   "metadata": {},
   "source": [
    "##### Общее кол-во строк"
   ]
  },
  {
   "cell_type": "code",
   "execution_count": null,
   "id": "0d834346",
   "metadata": {},
   "outputs": [],
   "source": [
    "df.shape"
   ]
  },
  {
   "cell_type": "markdown",
   "id": "196b45cb",
   "metadata": {},
   "source": [
    "##### Рассмотрим структуру датафрейма"
   ]
  },
  {
   "cell_type": "code",
   "execution_count": null,
   "id": "bf14090d",
   "metadata": {},
   "outputs": [],
   "source": [
    "df.head()"
   ]
  },
  {
   "cell_type": "markdown",
   "id": "4b902684",
   "metadata": {},
   "source": [
    "##### Основная информация о строках"
   ]
  },
  {
   "cell_type": "code",
   "execution_count": null,
   "id": "74aec153",
   "metadata": {},
   "outputs": [],
   "source": [
    "df.info()"
   ]
  },
  {
   "cell_type": "markdown",
   "id": "d0ca1f5b",
   "metadata": {},
   "source": [
    "##### Стат данные по столбцам"
   ]
  },
  {
   "cell_type": "code",
   "execution_count": null,
   "id": "e7fb4b65",
   "metadata": {},
   "outputs": [],
   "source": [
    "df.describe()"
   ]
  },
  {
   "cell_type": "code",
   "execution_count": null,
   "id": "e048683f",
   "metadata": {},
   "outputs": [],
   "source": [
    "df.isna().sum()"
   ]
  },
  {
   "cell_type": "code",
   "execution_count": null,
   "id": "50cbcd7e",
   "metadata": {},
   "outputs": [],
   "source": [
    "df.columns"
   ]
  },
  {
   "cell_type": "code",
   "execution_count": null,
   "id": "02d6c023",
   "metadata": {},
   "outputs": [],
   "source": [
    "df.dtypes"
   ]
  },
  {
   "cell_type": "code",
   "execution_count": null,
   "id": "e83fe6ec",
   "metadata": {},
   "outputs": [],
   "source": [
    "df.head(100)"
   ]
  },
  {
   "cell_type": "markdown",
   "id": "711b12b0",
   "metadata": {},
   "source": [
    "##### Приводим типы данных"
   ]
  },
  {
   "cell_type": "code",
   "execution_count": null,
   "id": "e82e7a04",
   "metadata": {},
   "outputs": [],
   "source": [
    "# в данных дробные числа записаны через запятую\n",
    "str_columns = []\n",
    "for col in df.columns:\n",
    "    if df[col].dtype == \"object\" and col not in ():\n",
    "        str_columns.append(col)\n",
    "\n",
    "str_columns"
   ]
  },
  {
   "cell_type": "code",
   "execution_count": null,
   "id": "443240c1",
   "metadata": {},
   "outputs": [],
   "source": [
    "for col in str_columns:\n",
    "    df[col] = (\n",
    "        df[col]\n",
    "        .astype(str)\n",
    "        .str.replace(',', '.', regex=False)\n",
    "    )"
   ]
  },
  {
   "cell_type": "code",
   "execution_count": null,
   "id": "68c083a7",
   "metadata": {},
   "outputs": [],
   "source": [
    "df.head(100)"
   ]
  },
  {
   "cell_type": "code",
   "execution_count": null,
   "id": "092d7b32",
   "metadata": {},
   "outputs": [],
   "source": [
    "columns_to_convert_to_numeric = [\n",
    "    'children_cnt',\n",
    "    'monthly_income_amt',\n",
    "    'in_payment_rub_amt',\n",
    "    'out_payment_rub_amt',\n",
    "    'uncovered_position_amt',\n",
    "    'turnover_rus_bon_amt',\n",
    "    'turnover_rus_sec_amt',\n",
    "    'turnover_forts_amt',\n",
    "    'turnover_cur_amt',\n",
    "    'turnover_etf_amt',\n",
    "    'turnover_fnd_amt',\n",
    "    'turnover_opt_amt',\n",
    "    'turnover_ore_prc_amt',\n",
    "    'turnover_ore_sel_amt',\n",
    "    'turnover_tracking_amt',\n",
    "    'trade_order_rus_sec_cnt',\n",
    "    'trade_order_rus_bon_cnt',\n",
    "    'trade_order_forts_cnt',\n",
    "    'trade_order_cur_cnt',\n",
    "    'trade_order_etf_cnt',\n",
    "    'trade_order_fnd_cnt',\n",
    "    'trade_order_opt_cnt',\n",
    "    'trade_order_ore_prc_cnt',\n",
    "    'trade_order_ore_sel_cnt',\n",
    "    'trade_order_tracking_cnt',\n",
    "    'portf_total_amt',\n",
    "    'portf_mex_amt',\n",
    "    'portf_rus_sec_amt',\n",
    "    'portf_rus_bon_amt',\n",
    "    'initial_margin_amt',\n",
    "    'portf_cur_amt',\n",
    "    'portf_etf_amt',\n",
    "    'portf_fnd_amt',\n",
    "    'portf_opt_amt',\n",
    "    'portf_ore_amt',\n",
    "    'ccr_balance_amt',\n",
    "    'cor_balance_amt',\n",
    "    'lon_balance_amt',\n",
    "    'posts',\n",
    "    'comments',\n",
    "    'reacts',\n",
    "    'reads',\n",
    "]\n",
    "\n",
    "for col in columns_to_convert_to_numeric:\n",
    "    df[col] = pd.to_numeric(df[col], errors='coerce')"
   ]
  },
  {
   "cell_type": "code",
   "execution_count": null,
   "id": "05bc7e46",
   "metadata": {},
   "outputs": [],
   "source": [
    "df.head(100)"
   ]
  },
  {
   "cell_type": "code",
   "execution_count": null,
   "id": "f83142ae",
   "metadata": {},
   "outputs": [],
   "source": [
    "df.education_level_cd.fillna(\"Undefined\", inplace=True)\n",
    "df.marital_status_cd.fillna(\"Undefined\", inplace=True)\n",
    "df.children_cnt.fillna(0, inplace=True)\n",
    "df.monthly_income_amt.fillna(df.monthly_income_amt.median(), inplace=True)\n",
    "\n",
    "df.ccr_balance_amt.fillna(df.ccr_balance_amt.mean(), inplace=True)\n",
    "df.cor_balance_amt.fillna(df.ccr_balance_amt.mean(), inplace=True)\n",
    "df.lon_balance_amt.fillna(df.ccr_balance_amt.mean(), inplace=True)\n",
    "\n",
    "df.posts.fillna(0, inplace=True)\n",
    "df.comments.fillna(0, inplace=True)\n",
    "df.reacts.fillna(0, inplace=True)\n",
    "df.reads.fillna(0, inplace=True)\n"
   ]
  },
  {
   "cell_type": "code",
   "execution_count": null,
   "id": "1987fb8d",
   "metadata": {},
   "outputs": [],
   "source": [
    "df.head(100)"
   ]
  },
  {
   "cell_type": "code",
   "execution_count": null,
   "id": "6e6a039d",
   "metadata": {},
   "outputs": [],
   "source": [
    "# как видим, все пропуски мы побороли\n",
    "df.isna().sum()"
   ]
  },
  {
   "cell_type": "code",
   "execution_count": null,
   "id": "d95a189b",
   "metadata": {},
   "outputs": [],
   "source": [
    "integer_cols = [\n",
    "    'age',\n",
    "    'children_cnt',\n",
    "    'forts_flg', \n",
    "    'margin_status_flg', \n",
    "    'qualified_investor_flg',\n",
    "    'posts',\n",
    "    'comments',\n",
    "    'reacts', \n",
    "    'reads'\n",
    "    ]\n",
    "for col in integer_cols:\n",
    "    df[col] = df[col].astype(pd.Int64Dtype())\n",
    "df.dtypes"
   ]
  },
  {
   "cell_type": "code",
   "execution_count": null,
   "id": "3efd98c4",
   "metadata": {},
   "outputs": [],
   "source": [
    "df.describe()"
   ]
  },
  {
   "cell_type": "markdown",
   "id": "f485bf58",
   "metadata": {},
   "source": [
    "##### Преобразуем категориальные переменные"
   ]
  },
  {
   "cell_type": "code",
   "execution_count": null,
   "id": "eacaf963",
   "metadata": {},
   "outputs": [],
   "source": [
    "df_edu_encoded = pd.get_dummies(df['education_level_cd'], prefix='edu')\n",
    "df_marital_encoded = pd.get_dummies(df['marital_status_cd'], prefix='marital')\n",
    "\n",
    "df = pd.concat([df, df_edu_encoded, df_marital_encoded], axis=1)"
   ]
  },
  {
   "cell_type": "code",
   "execution_count": null,
   "id": "8aadd378",
   "metadata": {},
   "outputs": [],
   "source": [
    "df.columns"
   ]
  },
  {
   "cell_type": "code",
   "execution_count": null,
   "id": "9a17f7d9",
   "metadata": {},
   "outputs": [],
   "source": [
    "# посчитаем приблизительное общее кол-во сделок\n",
    "df[\"trade_total_cnt\"] = df.trade_order_rus_sec_cnt + df.trade_order_rus_bon_cnt + df.trade_order_forts_cnt + df.trade_order_cur_cnt + df.trade_order_etf_cnt + df.trade_order_fnd_cnt + df.trade_order_opt_cnt + df.trade_order_ore_prc_cnt"
   ]
  },
  {
   "cell_type": "code",
   "execution_count": null,
   "id": "52c05846",
   "metadata": {},
   "outputs": [],
   "source": [
    "turnover_cols = [\n",
    "    'turnover_rus_bon_amt', 'turnover_rus_sec_amt', 'turnover_forts_amt',\n",
    "    'turnover_cur_amt', 'turnover_etf_amt', 'turnover_fnd_amt',\n",
    "    'turnover_opt_amt', 'turnover_ore_prc_amt', 'turnover_ore_sel_amt',\n",
    "]\n",
    "df['turnover_total_amt'] = df[turnover_cols].sum(axis=1)"
   ]
  },
  {
   "cell_type": "code",
   "execution_count": null,
   "id": "8b6c13d5",
   "metadata": {},
   "outputs": [],
   "source": [
    "def normalize(data:pd.Series):\n",
    "    if data.dtype is object:\n",
    "        raise ValueError(\"Invalid data format given\")\n",
    "    data = (data - data.min())/(data.max()-data.min())\n",
    "    return data\n",
    "\n",
    "# создадим синтетический признак - коэфициент приверженности к риску\n",
    "df['risk_weighted_index'] = (\n",
    "    (df['turnover_forts_amt'] * 3) + \n",
    "    (df['turnover_opt_amt'] * 3) + \n",
    "    (df['turnover_rus_sec_amt'] * 2) + \n",
    "    (df['turnover_rus_bon_amt'] * 1) + \n",
    "    (df['turnover_etf_amt'] * 1) + \n",
    "    (df['turnover_fnd_amt'] * 1) + \n",
    "    (df['turnover_ore_prc_amt'] * 1) +\n",
    "    (df['turnover_ore_sel_amt'] * 1) +\n",
    "    (df['forts_flg'] * 5000) +\n",
    "    (df['margin_status_flg'] * 5000)\n",
    ")"
   ]
  },
  {
   "cell_type": "code",
   "execution_count": null,
   "id": "66c0def2",
   "metadata": {},
   "outputs": [],
   "source": [
    "# создадим отдельные колонки для риск-инструментов и консервативных инструментов\n",
    "\n",
    "\n",
    "# Оборот с консервативными инструментами\n",
    "df['turnover_conserv_amt'] = (\n",
    "    df['turnover_rus_bon_amt'] + \n",
    "    df['turnover_etf_amt'] + \n",
    "    df['turnover_fnd_amt'] + \n",
    "    df['turnover_ore_prc_amt'] + \n",
    "    df['turnover_ore_sel_amt']\n",
    ")\n",
    "\n",
    "# Оборот с рисковыми инструментами\n",
    "df['turnover_risk_amt'] = (\n",
    "    df['turnover_rus_sec_amt'] + \n",
    "    df['turnover_forts_amt'] + \n",
    "    df['turnover_opt_amt']\n",
    ")\n",
    "\n",
    "# Количество сделок с консервативными инструментами\n",
    "df['trade_conserv_cnt'] = (\n",
    "    df['trade_order_rus_bon_cnt'] + \n",
    "    df['trade_order_etf_cnt'] + \n",
    "    df['trade_order_fnd_cnt'] + \n",
    "    df['trade_order_ore_prc_cnt'] + \n",
    "    df['trade_order_ore_sel_cnt']\n",
    ")\n",
    "\n",
    "# Количество сделок с рисковыми инструментами\n",
    "df['trade_risk_cnt'] = (\n",
    "    df['trade_order_rus_sec_cnt'] + \n",
    "    df['trade_order_forts_cnt'] + \n",
    "    df['trade_order_opt_cnt']\n",
    ")\n",
    "\n",
    "#  Объем консервативных инструментов в портфеле\n",
    "df['portf_conserv_amt'] = (\n",
    "    df['portf_rus_bon_amt'] + \n",
    "    df['portf_etf_amt'] + \n",
    "    df['portf_fnd_amt'] + \n",
    "    df['portf_ore_amt']\n",
    ")\n",
    "\n",
    "# Объем рисковых инструментов в портфеле\n",
    "df['portf_risk_amt'] = (\n",
    "    df['portf_rus_sec_amt'] + \n",
    "    df['portf_opt_amt']\n",
    ")\n"
   ]
  },
  {
   "cell_type": "markdown",
   "id": "f993a624",
   "metadata": {},
   "source": [
    "### Непосредственно анализ данных"
   ]
  },
  {
   "cell_type": "code",
   "execution_count": null,
   "id": "d8175472",
   "metadata": {},
   "outputs": [],
   "source": [
    "plt.figure(figsize=(45, 35), dpi=300)\n",
    "sns.heatmap(df.corr(numeric_only=True), annot=True, fmt=\".2f\", cmap='coolwarm')\n",
    "plt.title(\"Корреляционная матрица признаков\")\n",
    "plt.show()\n",
    "plt.close()"
   ]
  },
  {
   "cell_type": "code",
   "execution_count": null,
   "id": "3f19b059",
   "metadata": {},
   "outputs": [],
   "source": [
    "plt.figure(figsize=(35, 45))\n",
    "sns.clustermap(df.corr(numeric_only=True), annot=True, fmt=\".2f\", cmap='coolwarm',figsize=(40, 30))\n",
    "plt.show()\n",
    "plt.close()"
   ]
  },
  {
   "cell_type": "markdown",
   "id": "a6c0e51a",
   "metadata": {},
   "source": [
    "### Основные наблюдения"
   ]
  },
  {
   "cell_type": "markdown",
   "id": "128c1935",
   "metadata": {},
   "source": [
    "##### Положительная корреляция\n",
    "1. статус квал инвестора, флаг маржинальной торговли и флаг подключения срочного рынка попарно положительно коррелируют между собой\n",
    "2. Cумма ввода денежных средств за день положительно коррелирует с суммой вывода средств за день\n",
    "3. Оборот фьючерсов положительно коррелирует с оборотом российских активов (слабая корреляция)\n",
    "4. Оборот покупки ETF имеет положительную корреляцию с вводом средств, но не имеют таковой с выводом\n",
    "5. Оборот фондов Т-Капитала имеет положительную корреляцию с вводом и выводом средств\n",
    "6. Объем денежных активов в портфеле имеет очень сильную корелляцию с суммой по непокрытым позициям\n",
    "7. Сумма гарантийного обеспечения имеет среднюю корелляцию с оборотом российских активов\n",
    "8. Оборот по фьючерсам имеет положительную корреляцию с суммой гарантийного обеспечения (слабая)\n",
    "9. Объем купленных драгоценных металлов кореллирует с оборотом фондов Т-капитала\n",
    "10. Объем проданных драгоценных металлов кореллирует с оборотом фондов Т-капитала\n",
    "11. Количество сделок при использовании автоследования кореллирует с кол-вом сделок в российском сегменте и сегменте ETF\n",
    "12. Объем портфеля клиента на Московской бирже кореллирует с общим объемом портфеля\n",
    "13. Кол-во российских активов (акций, ETF) очень сильно кореллирует с объемом портфеля\n",
    "14. Объем денег на дебетвых и сберегательных счетах кореллирует с полным объемом портфеля\n",
    "15. активность в соц-сети (предположительно в Пульсе) кореллирует между собой\n",
    "16. Очень сильная корелляция между полным оборотом и оборотом фондов Т-капитала\n",
    "\n",
    "##### Отрицательная корреляция\n",
    "1. Маржа безопасности отрицательно коррелирует с непокрытыми активами\n",
    "2. Оборот в российском сегменте имеет обратную корелляцию с непокрытыми активами\n",
    "3. Объем заемных средств имеет слабую отрицательную корелляцию с объемом купленных ETF\n",
    "4. Текущая сумма потфеля отрицательно кореллирует с оборотом российских активов (слабо)"
   ]
  },
  {
   "cell_type": "markdown",
   "id": "ba22a0b7",
   "metadata": {},
   "source": [
    "### Основные гипотезы"
   ]
  },
  {
   "cell_type": "markdown",
   "id": "864edcc3",
   "metadata": {},
   "source": [
    "1. Возраст не кореллирует ни с какими параметрами\n",
    "2. Возраст кореллирует с риск-профилем ивестора\n",
    "3. Образование связано с инвестированием в рисковые инструменты\n",
    "4. Образование связано с риск-профилем инвестора\n",
    "5. Объем портфеля связан с инвестированием в деривативы\n",
    "6. Объем портфеля связан с активностью в Пульсе\n",
    "7. Пол связан с выбором фин инструментов\n",
    "8. Семейное положение связано с выбором фин инструментов\n",
    "9. Возраст связан с использованием автоследования\n",
    "10. Семейный статус влияет на инвестиционное поведение и на выбор консервативных или рискованных активов [x]\n",
    "11. Крупные инвесторы чаще используют автоследование\n",
    "12. Наличие непокрытой позиции не всегда означает, что у клиента не хватает средств\n",
    "13. Объём заёмных средств связан с активностью на срочном рынке и маржинальной торговлей\n",
    "14. Активность в Пульсе связана с оборотом в фьючерсах и опционах\n",
    "15. Большие объёмы портфеля связаны с активностью на кредитных и дебетовых счетах \n",
    "16. Объём заёмных средств связан с более высокой активностью на рынке, а не с размером портфеля\n",
    "17. Инвестирование в драгоценные металлы является отдельной стратегией, независимой от других видов инвестиций\n",
    "18. Инвесторы с высоким уровнем образования имеют более крупные портфели и чаще торгуют на срочном рынке \n",
    "19. Фонды Т-капитала используются для трейдинга зачастую\n"
   ]
  },
  {
   "cell_type": "markdown",
   "id": "707c5666",
   "metadata": {},
   "source": [
    "### Целевые метрики\n",
    "- portf_total_amt\n",
    "- in_payment_rub_amt\n",
    "- turnover_total_amt\n",
    "\n",
    "```python\n",
    "target_metrics = [\"portf_total_amt\", \"in_payment_rub_amt\", \"turnover_total_amt\"]\n",
    "```"
   ]
  },
  {
   "cell_type": "markdown",
   "id": "eb10ff5d",
   "metadata": {},
   "source": [
    "### Гипотеза 1-2\n",
    "### Возраст не кореллирует ни с какими параметрами"
   ]
  },
  {
   "cell_type": "code",
   "execution_count": null,
   "id": "e8857444",
   "metadata": {},
   "outputs": [],
   "source": [
    "sns.regplot(data=df, x='age', y='portf_total_amt', scatter_kws={\"s\": 10}, line_kws={\"color\": \"red\"})\n",
    "plt.title('Возраст и сумма портфеля')\n",
    "plt.show()\n",
    "plt.close()\n",
    "\n",
    "bins = list(range(14, 100, 2))\n",
    "\n",
    "df['age_group'] = pd.cut(df['age'], bins=bins, right=False)\n",
    "\n",
    "\n",
    "plt.figure(figsize=(16, 8))\n",
    "sns.barplot(x='age_group', y='portf_total_amt', data=df)\n",
    "plt.xticks(rotation=45, ha='right')\n",
    "plt.yscale('log')\n",
    "plt.title('Средний объем портфеля по возрастным группам (логарифмическая шкала)')\n",
    "plt.xlabel('Возрастная группа')\n",
    "plt.ylabel('Средний объем портфеля, руб. (лог. шкала)')\n",
    "plt.tight_layout()\n",
    "plt.show()\n",
    "plt.close()\n"
   ]
  },
  {
   "cell_type": "markdown",
   "id": "e2b4ef14",
   "metadata": {},
   "source": [
    "видна небольшая просадка в возрасте 18 - 22, что вполне логично, так как мало кто в таком возрасте получает стабильный заработок"
   ]
  },
  {
   "cell_type": "code",
   "execution_count": null,
   "id": "a4b641ec",
   "metadata": {},
   "outputs": [],
   "source": [
    "sns.regplot(data=df, x='age', y='turnover_total_amt', scatter_kws={\"s\": 10}, line_kws={\"color\": \"red\"})\n",
    "plt.show()\n",
    "plt.close()\n",
    "\n",
    "bins = list(range(14, 100, 2))\n",
    "\n",
    "df['age_group'] = pd.cut(df['age'], bins=bins, right=False)\n",
    "\n",
    "\n",
    "plt.figure(figsize=(16, 8))\n",
    "sns.barplot(x='age_group', y='turnover_total_amt', data=df)\n",
    "plt.xticks(rotation=45, ha='right')\n",
    "plt.title(\"Распределение оборота по возрастным группам\")\n",
    "plt.xlabel(\"Возраст\")\n",
    "plt.ylabel(\"Оборот\")\n",
    "plt.tight_layout()\n",
    "plt.show()\n",
    "plt.close()\n",
    "\n",
    "\n",
    "plt.figure(figsize=(16, 8))\n",
    "sns.scatterplot(x='age', y='turnover_total_amt', data=df)\n",
    "plt.tight_layout()\n",
    "plt.show()\n",
    "plt.close()"
   ]
  },
  {
   "cell_type": "markdown",
   "id": "a78ce0bf",
   "metadata": {},
   "source": [
    "- отчетливо видно, что в возрасте 28-30 лет у людей выше оборот, это может быть связано с появлением денег для трейдинга или рисковых сделок\n",
    "- менее значительный пик видно в бакете 52-54 года"
   ]
  },
  {
   "cell_type": "code",
   "execution_count": null,
   "id": "a96e7219",
   "metadata": {},
   "outputs": [],
   "source": [
    "sns.regplot(data=df, x='age', y='risk_weighted_index', scatter_kws={\"s\": 10}, line_kws={\"color\": \"red\"})\n",
    "plt.show()\n",
    "plt.close()\n",
    "\n",
    "bins = list(range(14, 100, 2))\n",
    "\n",
    "df['age_group'] = pd.cut(df['age'], bins=bins, right=False)\n",
    "\n",
    "\n",
    "plt.figure(figsize=(16, 8))\n",
    "sns.barplot(x='age_group', y='risk_weighted_index', data=df)\n",
    "plt.xticks(rotation=45, ha='right')\n",
    "\n",
    "plt.tight_layout()\n",
    "plt.show()\n",
    "\n",
    "\n",
    "plt.figure(figsize=(16, 8))\n",
    "sns.scatterplot(x='age', y='risk_weighted_index', data=df)\n",
    "plt.tight_layout()\n",
    "plt.show()\n",
    "plt.close()"
   ]
  },
  {
   "cell_type": "markdown",
   "id": "30fd2c2b",
   "metadata": {},
   "source": [
    "- Опять наблюдается тенденция повышения толерантности к риску в возрасте 28-30 лет\n",
    "- Также виден скачек в бакете 52 - 54 года"
   ]
  },
  {
   "cell_type": "code",
   "execution_count": null,
   "id": "e89ad0b3",
   "metadata": {},
   "outputs": [],
   "source": [
    "sns.regplot(data=df, x='age', y='in_payment_rub_amt', scatter_kws={\"s\": 10}, line_kws={\"color\": \"red\"})\n",
    "plt.show()\n",
    "\n",
    "bins = list(range(14, 100, 2))\n",
    "\n",
    "df['age_group'] = pd.cut(df['age'], bins=bins, right=False)\n",
    "\n",
    "\n",
    "plt.figure(figsize=(16, 8))\n",
    "sns.barplot(x='age_group', y='in_payment_rub_amt', data=df)\n",
    "plt.xticks(rotation=45, ha='right')\n",
    "\n",
    "plt.tight_layout()\n",
    "plt.show()\n",
    "\n",
    "\n",
    "plt.figure(figsize=(16, 8))\n",
    "sns.scatterplot(x='age', y='in_payment_rub_amt', data=df)\n",
    "plt.tight_layout()\n",
    "plt.show()"
   ]
  },
  {
   "cell_type": "markdown",
   "id": "5789b323",
   "metadata": {},
   "source": [
    "### ВЫВОД\n",
    "исходя из предыдущих визуализций можно сделать выводы, что: \n",
    "- в возрасте 28-30 и 54-56 лет люди более склонны к трейдингу и риску\n",
    "- в возрасте 18-22 инвесторы не используют большие денежные средства"
   ]
  },
  {
   "cell_type": "markdown",
   "id": "c7005b88",
   "metadata": {},
   "source": [
    "### Гипотеза 3-4\n",
    "3. Образование связано с инвестированием в рисковые активы\n",
    "4. Образование связано с риск-профилем инвестора"
   ]
  },
  {
   "cell_type": "code",
   "execution_count": null,
   "id": "582a869a",
   "metadata": {},
   "outputs": [],
   "source": [
    "plt.figure(figsize=(16, 8))\n",
    "sns.barplot(x='education_level_cd', y='risk_weighted_index', data=df)\n",
    "plt.xticks(rotation=45, ha='right')\n",
    "\n",
    "plt.tight_layout()\n",
    "plt.show()\n",
    "\n",
    "\n",
    "plt.figure(figsize=(16, 8))\n",
    "sns.scatterplot(x='education_level_cd', y='risk_weighted_index', data=df)\n",
    "plt.tight_layout()\n",
    "plt.show()"
   ]
  },
  {
   "cell_type": "markdown",
   "id": "9a8f25bd",
   "metadata": {},
   "source": [
    "видно, что люди с хотя бы одним высшим более склонны к риску, давайте посмотрим теперь на более тонкие сравнения"
   ]
  },
  {
   "cell_type": "code",
   "execution_count": null,
   "id": "6692c4ba",
   "metadata": {},
   "outputs": [],
   "source": [
    "plt.figure(figsize=(16, 8))\n",
    "sns.barplot(x='education_level_cd', y='turnover_risk_amt', data=df)\n",
    "plt.xticks(rotation=45, ha='right')\n",
    "\n",
    "plt.tight_layout()\n",
    "plt.show()\n",
    "\n",
    "\n",
    "plt.figure(figsize=(16, 8))\n",
    "sns.barplot(x='education_level_cd', y='trade_risk_cnt', data=df)\n",
    "plt.xticks(rotation=45, ha='right')\n",
    "\n",
    "plt.tight_layout()\n",
    "plt.show()\n",
    "\n",
    "\n",
    "plt.figure(figsize=(16, 8))\n",
    "sns.barplot(x='education_level_cd', y='portf_risk_amt', data=df)\n",
    "plt.xticks(rotation=45, ha='right')\n",
    "plt.axhline(color=\"black\")\n",
    "plt.title(\"Зависимость суммы рисковых активов от образования\")\n",
    "plt.xlabel(\"Образование\")\n",
    "plt.ylabel(\"Сумма рисковых активов в портфеле\")\n",
    "plt.tight_layout()\n",
    "plt.show()\n",
    "\n",
    "\n",
    "\n"
   ]
  },
  {
   "cell_type": "markdown",
   "id": "5f135b9b",
   "metadata": {},
   "source": [
    "люди с двумя высшими явно впереди, но вопросы вызывают отрицательные значения у людей со школьным образованием"
   ]
  },
  {
   "cell_type": "code",
   "execution_count": null,
   "id": "3211d9ca",
   "metadata": {},
   "outputs": [],
   "source": [
    "financial_cols = [\n",
    "    'portf_total_amt', 'portf_mex_amt', 'portf_rus_sec_amt', \n",
    "    'portf_rus_bon_amt', 'portf_cur_amt', 'portf_etf_amt', \n",
    "    'portf_fnd_amt', 'portf_opt_amt', 'portf_ore_amt', \n",
    "    'ccr_balance_amt', 'cor_balance_amt', 'lon_balance_amt',\n",
    "    'in_payment_rub_amt', 'out_payment_rub_amt', 'uncovered_position_amt',\n",
    "    'turnover_rus_bon_amt', 'turnover_rus_sec_amt', 'turnover_forts_amt',\n",
    "    'turnover_cur_amt', 'turnover_etf_amt', 'turnover_fnd_amt',\n",
    "    'turnover_opt_amt', 'turnover_ore_prc_amt', 'turnover_ore_sel_amt',\n",
    "    'turnover_tracking_amt'\n",
    "]\n",
    "\n",
    "\n",
    "negative_counts = {}\n",
    "\n",
    "for col in financial_cols:\n",
    "    if col in df.columns:\n",
    "        negative_counts[col] = (df[col] < 0).sum()\n",
    "\n",
    "\n",
    "for col, count in negative_counts.items():\n",
    "    if count > 0:\n",
    "        print(f\"В колонке '{col}' найдено {count} отрицательных значений.\")\n",
    "\n",
    "\n",
    "total_negatives = sum(negative_counts.values())\n",
    "print(f\"\\nВсего найдено {total_negatives} отрицательных значений во всех финансовых колонках.\")"
   ]
  },
  {
   "cell_type": "markdown",
   "id": "1262898e",
   "metadata": {},
   "source": [
    "значений много, значит это не выбросы. вероятно, люди потеряли много денег используя маржинальную торговлю\n",
    "\n",
    "Проверим теперь по консервативным инструментам"
   ]
  },
  {
   "cell_type": "code",
   "execution_count": null,
   "id": "6841a067",
   "metadata": {},
   "outputs": [],
   "source": [
    "plt.figure(figsize=(16, 8))\n",
    "sns.barplot(x='education_level_cd', y='turnover_conserv_amt', data=df)\n",
    "plt.xticks(rotation=45, ha='right')\n",
    "plt.title(\"Зависимость оборота консервативных активов от образования\")\n",
    "plt.xlabel(\"Образование\")\n",
    "plt.ylabel(\"Оборот консервативных активов в портфеле\")\n",
    "plt.tight_layout()\n",
    "plt.show()\n",
    "\n",
    "\n",
    "plt.figure(figsize=(16, 8))\n",
    "sns.barplot(x='education_level_cd', y='trade_conserv_cnt', data=df)\n",
    "plt.xticks(rotation=45, ha='right')\n",
    "\n",
    "plt.tight_layout()\n",
    "plt.show()\n",
    "\n",
    "\n",
    "plt.figure(figsize=(16, 8))\n",
    "sns.barplot(x='education_level_cd', y='portf_conserv_amt', data=df)\n",
    "plt.xticks(rotation=45, ha='right')\n",
    "plt.title(\"Зависимость суммы консервативных активов от образования\")\n",
    "plt.xlabel(\"Образование\")\n",
    "plt.ylabel(\"Сумма консервативных активов в портфеле\")\n",
    "plt.tight_layout()\n",
    "plt.show()"
   ]
  },
  {
   "cell_type": "markdown",
   "id": "81e951d0",
   "metadata": {},
   "source": [
    "### ВЫВОД\n",
    "\n",
    "по обороту с консервативными инструментами явно лидируют люди с высшим образованием\n",
    "\n",
    "явно заметна просадка со стороны людей без высшего образования\n",
    "\n",
    "стоит заметить, что у людей с высшим образованием оборот по гораздо выше чем у остальных категорий по всем инструментам\n",
    "\n",
    "также, внимание стоит уделить тому факту, что риску также очень склонны люди без высшего образования, это может быть связано с попыткой заработать без какой-либо стратегии инвестирования, попытками маркет-тайминга или трейдинга\n",
    "\n",
    "ИТОГО: больше всего склонны к риску люди с одним высшим или, наоборот, со средним образованием\n"
   ]
  },
  {
   "cell_type": "markdown",
   "id": "bbcb9bbc",
   "metadata": {},
   "source": [
    "### Гипотеза 5-6\n",
    "5. Объем портфеля связан с инвестированием в деривативы\n",
    "6. Объем портфеля связан с активностью в Пульсе"
   ]
  },
  {
   "cell_type": "code",
   "execution_count": null,
   "id": "214184cd",
   "metadata": {},
   "outputs": [],
   "source": [
    "# введем нормированный по 100 бальной шкале коэфициент активности в пульсе\n",
    "\n",
    "df[\"activity\"] = (3*df.posts + 2*df.comments + 1.5*df.reacts + df.reads).astype(pd.Float64Dtype())\n",
    "df[\"activity\"] = (df[\"activity\"] - df[\"activity\"].min())/(df[\"activity\"].max() - df[\"activity\"].min())*100\n"
   ]
  },
  {
   "cell_type": "code",
   "execution_count": null,
   "id": "691311e0",
   "metadata": {},
   "outputs": [],
   "source": [
    "df.columns"
   ]
  },
  {
   "cell_type": "code",
   "execution_count": null,
   "id": "7ba95138",
   "metadata": {},
   "outputs": [],
   "source": [
    "\n",
    "\n",
    "features_to_plot = [\n",
    "       'trade_total_cnt',\n",
    "       'turnover_total_amt',\n",
    "       'risk_weighted_index',\n",
    "       'turnover_conserv_amt',\n",
    "       'turnover_risk_amt',\n",
    "       'trade_conserv_cnt',\n",
    "       'trade_risk_cnt',\n",
    "       'portf_conserv_amt',\n",
    "       'portf_risk_amt'\n",
    "]\n",
    "\n",
    "\n",
    "for feature in features_to_plot:\n",
    "       g = sns.JointGrid(x='portf_total_amt', y=feature, data=df, height=10)\n",
    "       g.plot_joint(sns.scatterplot, alpha=0.3)\n",
    "       \n",
    "       sns.kdeplot(x=df['portf_total_amt'], ax=g.ax_marg_x)\n",
    "       sns.kdeplot(y=df[feature], ax=g.ax_marg_y)\n",
    "       \n",
    "\n",
    "       if 'amt' in feature or 'index' in feature:\n",
    "              g.ax_joint.set_yscale('log')\n",
    "       g.ax_joint.set_xscale('log')\n",
    "       \n",
    "       g.set_axis_labels('Объем портфеля', feature)\n",
    "\n",
    "       plt.suptitle(f'Зависимость {feature} от объема портфеля', y=1.02)\n",
    "       \n",
    "       plt.show()\n",
    "       plt.close()\n",
    "\n"
   ]
  },
  {
   "cell_type": "markdown",
   "id": "b61562fe",
   "metadata": {},
   "source": [
    "Из действительно ценных фактов можно подчеркнуть, что: \n",
    "- объем портфеля имеет положительную корелляцию с оборотом, что логично\n",
    "- объем имеет довольно сильную корелляцию с объемом как рисковых, так и консервативных активов (грубо говоря, этот факт нам ничего не дает)"
   ]
  },
  {
   "cell_type": "markdown",
   "id": "00cd8364",
   "metadata": {},
   "source": [
    "#### Теперь рассмотрим связь с активностью в пульсе"
   ]
  },
  {
   "cell_type": "code",
   "execution_count": null,
   "id": "a8f3eb3d",
   "metadata": {},
   "outputs": [],
   "source": [
    "\n",
    "target_metrics = [\"portf_total_amt\", \"in_payment_rub_amt\", \"turnover_total_amt\"]\n",
    "\n",
    "\n",
    "\n",
    "\n",
    "for metric in target_metrics:\n",
    "    plt.figure(figsize=(16, 8))\n",
    "    sns.regplot(x=metric, y=\"activity\", data=df, scatter_kws={'alpha': 0.3})\n",
    "    \n",
    "\n",
    "    plt.title(f'Зависимость активности от {metric}')\n",
    "    plt.xlabel(f'{metric}')\n",
    "    plt.ylabel('Активность в Пульсе')\n",
    "    \n",
    "    plt.tight_layout()\n",
    "\n",
    "    plt.show()\n",
    "    plt.close()\n"
   ]
  },
  {
   "cell_type": "markdown",
   "id": "b556fb2d",
   "metadata": {},
   "source": [
    "##### ВЫВОД\n",
    "- объем портфеля имеет положительную корелляцию с оборотом \n",
    "- зависимость оборота и размера портфеля от активности в пульсе имеет вид экспоненциального распределения"
   ]
  },
  {
   "cell_type": "markdown",
   "id": "9aa143a4",
   "metadata": {},
   "source": [
    "### Гипотеза 7\n",
    "- Связь пола с инструментами инвестирования\n",
    "Невозможно проверить, так как пол не представлен в данных"
   ]
  },
  {
   "cell_type": "markdown",
   "id": "93d84e96",
   "metadata": {},
   "source": [
    "### Гипотеза 8-10\n",
    "1. Семейное положение связано с выбором фин инструментов\n",
    "2. Возраст связан с использованием автоследования\n",
    "3.  Семейный статус влияет на инвестиционное поведение и на выбор консервативных или рискованных активов"
   ]
  },
  {
   "cell_type": "code",
   "execution_count": null,
   "id": "560e18a1",
   "metadata": {},
   "outputs": [],
   "source": [
    "criteria = [\n",
    "    'trade_total_cnt',\n",
    "    'turnover_total_amt',\n",
    "    'risk_weighted_index',\n",
    "    'turnover_conserv_amt',\n",
    "    'turnover_risk_amt',\n",
    "    'trade_conserv_cnt',\n",
    "    'trade_risk_cnt',\n",
    "    'portf_conserv_amt',\n",
    "    'portf_risk_amt',\n",
    "    \"portf_total_amt\",\n",
    "    \"in_payment_rub_amt\",\n",
    "    \"turnover_total_amt\",\n",
    "    \"turnover_tracking_amt\"\n",
    "]\n",
    "\n",
    "for crit in criteria:\n",
    "    plt.figure(figsize=(16, 8))\n",
    "    sns.barplot(x='marital_status_cd', y=crit, data=df)\n",
    "    plt.xticks(rotation=45, ha='right')\n",
    "    plt.tight_layout()\n",
    "    plt.show()\n",
    "    plt.close()"
   ]
  },
  {
   "cell_type": "markdown",
   "id": "047c7306",
   "metadata": {},
   "source": [
    "Заметим, что:\n",
    "- Больше всего оборот средств у вдовцов и женатых\n",
    "- У вдовцов больше всего портфель\n",
    "- У вдовцов больше всех рисковых активов\n",
    "- У женатых больше всего оборот консервативных инструментов\n",
    "\n",
    "ВЫВОДЫ\n",
    "- Вдовцы и женатые - 2 самые активные группы пользователей\n",
    "- Вдовцы скорее выберут рисковые активы\n",
    "- Женатые скорее выберут консервативные активы"
   ]
  },
  {
   "cell_type": "markdown",
   "id": "81812641",
   "metadata": {},
   "source": [
    "### Гипотеза 11\n",
    "11. Крупные инвесторы чаще используют автоследование"
   ]
  },
  {
   "cell_type": "code",
   "execution_count": null,
   "id": "f4e827a8",
   "metadata": {},
   "outputs": [],
   "source": [
    "df.columns"
   ]
  },
  {
   "cell_type": "code",
   "execution_count": null,
   "id": "59e9e569",
   "metadata": {},
   "outputs": [],
   "source": [
    "target_metrics = [\"portf_total_amt\", \"in_payment_rub_amt\", \"turnover_total_amt\", \"risk_weighted_index\"]\n",
    "for metric in target_metrics:\n",
    "    plt.figure(figsize=(16, 8))\n",
    "    sns.regplot(x=metric, y=\"turnover_tracking_amt\", data=df, scatter_kws={'alpha': 0.3})\n",
    "    \n",
    "\n",
    "    plt.title(f'Зависимость turnover_tracking_amt от {metric}')\n",
    "    plt.xlabel(f'{metric}')\n",
    "    plt.ylabel('turnover_tracking_amt')\n",
    "    \n",
    "    plt.tight_layout()\n",
    "\n",
    "    plt.show()\n",
    "    plt.close()\n"
   ]
  },
  {
   "cell_type": "markdown",
   "id": "b8ecd235",
   "metadata": {},
   "source": [
    "Зависимость очень похожа на экспоненциальное распределение\n",
    "\n",
    "##### ВЫВОД\n",
    "- Чем крупнее инвестор, тем реже он использует автоследование"
   ]
  },
  {
   "cell_type": "markdown",
   "id": "3b3fb824",
   "metadata": {},
   "source": [
    "### Гипотеза 12\n",
    "1.  Наличие непокрытой позиции не всегда означает, что у клиента не хватает средств"
   ]
  },
  {
   "cell_type": "code",
   "execution_count": null,
   "id": "5d8714fd",
   "metadata": {},
   "outputs": [],
   "source": [
    "df.uncovered_position_amt.describe()"
   ]
  },
  {
   "cell_type": "code",
   "execution_count": null,
   "id": "5b1c702c",
   "metadata": {},
   "outputs": [],
   "source": [
    "target_metrics = [\"portf_total_amt\", \"in_payment_rub_amt\", \"turnover_total_amt\", \"risk_weighted_index\"]\n",
    "for metric in target_metrics:\n",
    "    plt.figure(figsize=(16, 8))\n",
    "    sns.regplot(x=metric, y=\"uncovered_position_amt\", data=df, scatter_kws={'alpha': 0.3})\n",
    "\n",
    "\n",
    "    plt.title(f'Зависимость uncovered_position_amt от {metric}')\n",
    "    plt.xlabel(f'{metric}')\n",
    "    plt.ylabel('uncovered_position_amt')\n",
    "    \n",
    "    plt.tight_layout()\n",
    "\n",
    "    plt.show()\n",
    "    plt.close()"
   ]
  },
  {
   "cell_type": "markdown",
   "id": "3a05109e",
   "metadata": {},
   "source": [
    "### ВЫВОД\n",
    "- из графиков видно, что маржинальная торговля обратно пропорциональна сумме поплнений и баллансу по счету, то есть более крупные инвесторы не используют маржинальную торговлю"
   ]
  },
  {
   "cell_type": "markdown",
   "id": "7ef6c565",
   "metadata": {},
   "source": [
    "### Гипотеза 13\n",
    "1.  Объём заёмных средств связан с активностью на срочном рынке и маржинальной торговлей\n"
   ]
  },
  {
   "cell_type": "markdown",
   "id": "ddbeb3df",
   "metadata": {},
   "source": [
    "### ВЫВОД\n",
    "- Это подтверждается из предыдущего пункта исследования"
   ]
  },
  {
   "cell_type": "markdown",
   "id": "f7862788",
   "metadata": {},
   "source": [
    "### Гипотеза 14\n",
    "1.  Активность в Пульсе связана с оборотом в фьючерсах и опционах"
   ]
  },
  {
   "cell_type": "code",
   "execution_count": null,
   "id": "444aaeaa",
   "metadata": {},
   "outputs": [],
   "source": [
    "target_metrics = [\"portf_total_amt\", \"in_payment_rub_amt\", \"turnover_total_amt\", \"risk_weighted_index\", \"turnover_opt_amt\", \"turnover_forts_amt\"]\n",
    "for metric in target_metrics:\n",
    "    plt.figure(figsize=(16, 8))\n",
    "    sns.regplot(x=metric, y=\"activity\", data=df, scatter_kws={'alpha': 0.3})\n",
    "\n",
    "\n",
    "    plt.title(f'Зависимость activity от {metric}')\n",
    "    plt.xlabel(f'{metric}')\n",
    "    plt.ylabel('activity')\n",
    "    \n",
    "    plt.tight_layout()\n",
    "\n",
    "    plt.show()\n",
    "    plt.close()"
   ]
  },
  {
   "cell_type": "markdown",
   "id": "57b705c6",
   "metadata": {},
   "source": [
    "### ВЫВОД\n",
    "- активность в пульсе обратно пропорциональна оборотам\n",
    "- чем активнее инвестор, тем с большей вероятностью он новичок"
   ]
  },
  {
   "cell_type": "markdown",
   "id": "8b049b21",
   "metadata": {},
   "source": [
    "### Гипотеза 15 - 16\n",
    "1.  Большие объёмы портфеля связаны с активностью на кредитных и дебетовых счетах\n",
    "2.  Объём заёмных средств связан с более высокой активностью на рынке, а не с размером портфеля"
   ]
  },
  {
   "cell_type": "code",
   "execution_count": null,
   "id": "575f0b91",
   "metadata": {},
   "outputs": [],
   "source": [
    "\n",
    "target_metrics = [\n",
    "    \"portf_total_amt\", \n",
    "    \"in_payment_rub_amt\", \n",
    "    \"turnover_total_amt\", \n",
    "    \"risk_weighted_index\", \n",
    "    \"turnover_opt_amt\", \n",
    "    \"turnover_forts_amt\"]\n",
    "\n",
    "ballance_metrics = [\"ccr_balance_amt\", \"cor_balance_amt\", \"lon_balance_amt\"]\n",
    "\n",
    "\n",
    "for targ in target_metrics:\n",
    "    for bal in ballance_metrics:\n",
    "        plt.figure(figsize=(16, 8))\n",
    "\n",
    "        x = df[targ]\n",
    "        y = df[bal]\n",
    "        mask = x.notna() & y.notna()\n",
    "        x_masked = x[mask]\n",
    "        y_masked = y[mask]\n",
    "\n",
    "\n",
    "        spearman_corr, spearman_p = spearmanr(x_masked, y_masked)\n",
    "\n",
    "\n",
    "        pearson_corr, pearson_p = pearsonr(x_masked, y_masked)\n",
    "\n",
    "        sns.regplot(x=x_masked, y=y_masked, scatter_kws={'alpha': 0.3})\n",
    "\n",
    "        plt.title(\n",
    "            f'{bal} vs {targ}\\n'\n",
    "            f'Spearman ρ = {spearman_corr:.2f} (p = {spearman_p:.3f})\\n'\n",
    "            f'Pearson r = {pearson_corr:.2f} (p = {pearson_p:.3f})'\n",
    "        )\n",
    "\n",
    "        plt.xlabel(targ)\n",
    "        plt.ylabel(bal)\n",
    "        plt.tight_layout()\n",
    "        plt.show()\n",
    "        plt.close()"
   ]
  },
  {
   "cell_type": "markdown",
   "id": "b8ad15b2",
   "metadata": {},
   "source": [
    "### ВЫВОД\n",
    "- Существует корелляция между баллансом на дебетовых и сберегательных счетах и размером портфеля\n",
    "- Долг на кредитных счетах прямо пропорционален коэфициенту риска а также сумме пополнений\n",
    "- Сумма портфеля не связана с суммой на кредитных счетах"
   ]
  },
  {
   "cell_type": "markdown",
   "id": "e505093d",
   "metadata": {},
   "source": [
    "### Гипотеза 17\n",
    "1.  Инвестирование в драгоценные металлы является предполагает консервативную стратегию"
   ]
  },
  {
   "cell_type": "code",
   "execution_count": null,
   "id": "ab9c85a4",
   "metadata": {},
   "outputs": [],
   "source": [
    "gold = [\"trade_order_ore_prc_cnt\", \"turnover_ore_prc_amt\", \"portf_ore_amt\"]\n",
    "categ = [\"education_level_cd\", \"marital_status_cd\"]\n",
    "cons = [\n",
    "    \"risk_weighted_index\", \n",
    "    \"turnover_opt_amt\", \n",
    "    \"turnover_forts_amt\"\n",
    "]\n",
    "for g in gold:\n",
    "    for cat in categ:\n",
    "        plt.figure(figsize=(16, 8))\n",
    "        sns.barplot(x=cat, y=g, data=df)\n",
    "        plt.xticks(rotation=45, ha='right')\n",
    "        plt.tight_layout()\n",
    "        plt.show()\n",
    "        plt.close()\n",
    "\n",
    "\n",
    "for g in gold:\n",
    "    for cat in cons:\n",
    "        plt.figure(figsize=(16, 8))\n",
    "        sns.regplot(x=g, y=cat, data=df)\n",
    "        plt.tight_layout()\n",
    "        plt.show()\n",
    "        plt.close()"
   ]
  },
  {
   "cell_type": "markdown",
   "id": "dd848c75",
   "metadata": {},
   "source": [
    "### ВЫВОД\n",
    "- люди с двумя высшими и ученой степенью более склонны с инвестициям в золото\n",
    "- золото является прерогативой консервативных инвесторов"
   ]
  },
  {
   "cell_type": "markdown",
   "id": "34a9b788",
   "metadata": {},
   "source": [
    "### Гипотеза 18\n",
    "1.  Инвесторы с высоким уровнем образования имеют более крупные портфели и чаще торгуют на срочном рынке \n"
   ]
  },
  {
   "cell_type": "code",
   "execution_count": null,
   "id": "73a8abac",
   "metadata": {},
   "outputs": [],
   "source": [
    "plt.figure(figsize=(16, 8))\n",
    "sns.barplot(x=\"education_level_cd\", y=\"trade_order_forts_cnt\", data=df)\n",
    "plt.xticks(rotation=45, ha='right')\n",
    "plt.tight_layout()\n",
    "plt.show()\n",
    "plt.close()\n",
    "\n",
    "\n",
    "\n",
    "plt.figure(figsize=(16, 8))\n",
    "sns.barplot(x=\"education_level_cd\", y=\"portf_total_amt\", data=df)\n",
    "plt.xticks(rotation=45, ha='right')\n",
    "plt.tight_layout()\n",
    "plt.show()\n",
    "plt.close()\n",
    "\n",
    "\n",
    "plt.figure(figsize=(16, 8))\n",
    "sns.barplot(x=\"education_level_cd\", y=\"in_payment_rub_amt\", data=df)\n",
    "plt.xticks(rotation=45, ha='right')\n",
    "plt.tight_layout()\n",
    "plt.show()\n",
    "plt.close()"
   ]
  },
  {
   "cell_type": "markdown",
   "id": "ce78c18e",
   "metadata": {},
   "source": [
    "### ВЫВОД\n",
    "- Люди со слабым обрзованием имеют меньшие портфели\n",
    "- С деривативами в большинстве работают люди с 2 высшими образованиями"
   ]
  },
  {
   "cell_type": "markdown",
   "id": "42f95bcc",
   "metadata": {},
   "source": [
    "### Гипотеза 19\n",
    "1.  Фонды Т-капитала используются для трейдинга зачастую"
   ]
  },
  {
   "cell_type": "code",
   "execution_count": null,
   "id": "14c1a2a7",
   "metadata": {},
   "outputs": [],
   "source": [
    "df.columns"
   ]
  },
  {
   "cell_type": "code",
   "execution_count": null,
   "id": "367eeee4",
   "metadata": {},
   "outputs": [],
   "source": [
    "plt.figure(figsize=(16, 8))\n",
    "sns.regplot(x=\"turnover_fnd_amt\", y=\"portf_risk_amt\", data=df)\n",
    "plt.tight_layout()\n",
    "plt.show()\n",
    "plt.close()\n",
    "\n",
    "plt.figure(figsize=(16, 8))\n",
    "sns.regplot(x=\"turnover_fnd_amt\", y=\"turnover_risk_amt\", data=df)\n",
    "plt.tight_layout()\n",
    "plt.show()\n",
    "plt.close()\n",
    "\n",
    "\n",
    "plt.figure(figsize=(16, 8))\n",
    "sns.regplot(x=\"turnover_fnd_amt\", y=\"risk_weighted_index\", data=df)\n",
    "plt.tight_layout()\n",
    "plt.show()\n",
    "plt.close()"
   ]
  },
  {
   "cell_type": "markdown",
   "id": "05ae496c",
   "metadata": {},
   "source": [
    "### ВЫВОД\n",
    "- Оборот фондами Т-Банка меет очень сильную корелляцию с взвешенным индексом риска"
   ]
  },
  {
   "cell_type": "markdown",
   "id": "b4aa9b9d",
   "metadata": {},
   "source": [
    "### Дополнительное исследование\n",
    "\n",
    "Попробуем отобрать из всех записей тех, кто больше всего подвержен риску, а также тех, кто меньше всего подвержен риску, а затем изучим их портреты"
   ]
  },
  {
   "cell_type": "code",
   "execution_count": null,
   "id": "555944c7",
   "metadata": {},
   "outputs": [],
   "source": [
    "df_risk = df[(df.forts_flg==1) | (df.margin_status_flg==1) | (df.uncovered_position_amt<0) | (df.turnover_forts_amt != 0) | (df.turnover_opt_amt != 0)]\n",
    "\n",
    "bonds_quant = df.turnover_rus_bon_amt.quantile(0.25)\n",
    "etf_quant = df.turnover_etf_amt.quantile(0.25)\n",
    "gold_quant = df.turnover_ore_prc_amt.quantile(0.25)\n",
    "df_conserv = df[\n",
    "    ~(\n",
    "        (df.forts_flg==1) | (df.margin_status_flg==1) | (df.uncovered_position_amt<0) | (df.turnover_forts_amt != 0) | (df.turnover_opt_amt != 0)\n",
    "    ) \n",
    "    |\n",
    "    (df.turnover_rus_bon_amt > bonds_quant) | (df.turnover_etf_amt > etf_quant) | (df.turnover_ore_prc_amt > gold_quant)\n",
    "]\n",
    "\n",
    "plt.figure(figsize=(45, 35))\n",
    "sns.heatmap(df_risk.corr(numeric_only=True), annot=True, fmt=\".2f\", cmap='coolwarm')\n",
    "plt.title(\"Корреляционная матрица для агрессивных инвесторов\")\n",
    "plt.show()\n",
    "plt.close()\n",
    "\n",
    "\n",
    "\n",
    "categorical_cols = [\"education_level_cd\", \"marital_status_cd\"]\n",
    "titles = [\n",
    "    \"Сегменты по образованию среди агрессивных инвесторов\",\n",
    "    \"Сегменты по семейному положению среди агрессивных инвесторов\",\n",
    "]\n",
    "\n",
    "for col, title in zip(categorical_cols, titles):\n",
    "    counts = df_risk[col].value_counts(normalize=True).sort_values(ascending=True)\n",
    "\n",
    "    plt.figure(figsize=(10, 6))\n",
    "    sns.barplot(x=counts.values * 100, y=counts.index, palette=\"viridis\")\n",
    "\n",
    "    for i, (v, name) in enumerate(zip(counts.values, counts.index)):\n",
    "        plt.text(v * 100 + 0.5, i, f\"{v*100:.1f}%\", va='center', fontsize=12)\n",
    "\n",
    "    plt.title(title, fontsize=16)\n",
    "    plt.xlabel(\"Доля, %\", fontsize=14)\n",
    "    plt.ylabel(\"\")\n",
    "    plt.grid(axis='x', linestyle='--', alpha=0.4)\n",
    "    plt.tight_layout()\n",
    "    plt.show()\n",
    "    plt.close()\n",
    "\n",
    "\n",
    "plt.figure(figsize=(10, 6))\n",
    "sns.histplot(data=df_risk, x=\"children_cnt\", discrete=True)\n",
    "plt.title(\"Распределение по количеству детей\", fontsize=16)\n",
    "plt.xlabel(\"Количество детей\", fontsize=14)\n",
    "plt.ylabel(\"Частота\", fontsize=14)\n",
    "plt.grid(axis=\"y\", linestyle=\"--\", alpha=0.5)\n",
    "plt.tight_layout()\n",
    "plt.show()\n",
    "plt.close()\n",
    "\n",
    "\n",
    "plt.figure(figsize=(20, 16))\n",
    "sns.regplot(x=df_risk.portf_total_amt, y='monthly_income_amt', data=df_risk)\n",
    "plt.title(\"Сегменты по объему портфеля среди агрессивных инвесторов\")\n",
    "plt.show()\n",
    "plt.close()\n",
    "\n",
    "plt.figure(figsize=(20, 16))\n",
    "sns.histplot(data=df_risk, x='monthly_income_amt', bins='auto', kde=True)\n",
    "plt.title(\"Распределение месячного дохода агррессивных инесторов\")\n",
    "plt.show()\n",
    "plt.close()\n"
   ]
  },
  {
   "cell_type": "code",
   "execution_count": null,
   "id": "69766981",
   "metadata": {},
   "outputs": [],
   "source": [
    "plt.figure(figsize=(45, 35))\n",
    "sns.heatmap(df_conserv.corr(numeric_only=True), annot=True, fmt=\".2f\", cmap='coolwarm')\n",
    "plt.title(\"Корреляционная матрица для консервативных инвесторов\")\n",
    "plt.show()\n",
    "plt.close()\n",
    "\n",
    "\n",
    "\n",
    "categorical_cols = [\"education_level_cd\", \"marital_status_cd\"]\n",
    "titles = [\n",
    "    \"Сегменты по образованию среди консервативных инвесторов\",\n",
    "    \"Сегменты по семейному положению среди консервативных инвесторов\",\n",
    "]\n",
    "\n",
    "for col, title in zip(categorical_cols, titles):\n",
    "    counts = df_conserv[~df_conserv[col].isna()][col].value_counts(normalize=True).sort_values(ascending=True)\n",
    "\n",
    "    plt.figure(figsize=(10, 6))\n",
    "    sns.barplot(x=counts.values * 100, y=counts.index, palette=\"viridis\")\n",
    "\n",
    "    for i, (v, name) in enumerate(zip(counts.values, counts.index)):\n",
    "        plt.text(v * 100 + 0.5, i, f\"{v*100:.1f}%\", va='center', fontsize=12)\n",
    "\n",
    "    plt.title(title, fontsize=16)\n",
    "    plt.xlabel(\"Доля, %\", fontsize=14)\n",
    "    plt.ylabel(\"\")\n",
    "    plt.grid(axis='x', linestyle='--', alpha=0.4)\n",
    "    plt.tight_layout()\n",
    "    plt.show()\n",
    "    plt.close()\n",
    "\n",
    "\n",
    "plt.figure(figsize=(10, 6))\n",
    "sns.histplot(data=df_conserv, x=\"children_cnt\", discrete=True)\n",
    "plt.title(\"Распределение по количеству детей\", fontsize=16)\n",
    "plt.xlabel(\"Количество детей\", fontsize=14)\n",
    "plt.ylabel(\"Частота\", fontsize=14)\n",
    "plt.grid(axis=\"y\", linestyle=\"--\", alpha=0.5)\n",
    "plt.tight_layout()\n",
    "plt.show()\n",
    "plt.close()\n",
    "\n",
    "\n",
    "plt.figure(figsize=(20, 16))\n",
    "sns.regplot(x=df_conserv.portf_total_amt, y='monthly_income_amt', data=df_conserv)\n",
    "plt.title(\"Сегменты по объему портфеля среди консервативных инвесторов\")\n",
    "plt.show()\n",
    "plt.close()\n",
    "\n",
    "plt.figure(figsize=(20, 16))\n",
    "sns.histplot(data=df_conserv, x='monthly_income_amt', bins='auto', kde=True)\n",
    "plt.title(\"Распределение месячного дохода консервативных инесторов\")\n",
    "plt.show()\n",
    "plt.close()"
   ]
  },
  {
   "cell_type": "code",
   "execution_count": null,
   "id": "4175cbb9",
   "metadata": {},
   "outputs": [],
   "source": [
    "q_risk = df_risk['monthly_income_amt'].quantile(0.95)\n",
    "q_conserv = df_conserv['monthly_income_amt'].quantile(0.95)\n",
    "max_val = max(q_risk, q_conserv)\n",
    "\n",
    "df_risk_filtered = df_risk[(df_risk['monthly_income_amt'] > 0) & (df_risk['monthly_income_amt'] <= max_val)]\n",
    "df_conserv_filtered = df_conserv[(df_conserv['monthly_income_amt'] > 0) & (df_conserv['monthly_income_amt'] <= max_val)]\n",
    "\n",
    "\n",
    "plt.figure(figsize=(14, 8), dpi=150)\n",
    "\n",
    "sns.histplot(\n",
    "    data=df_risk_filtered,\n",
    "    x='monthly_income_amt',\n",
    "    bins='auto',\n",
    "    kde=True,\n",
    "    label=\"Агрессивные инвесторы\",\n",
    "    stat='density',\n",
    "    common_norm=False,\n",
    "    color='skyblue'\n",
    ")\n",
    "\n",
    "sns.histplot(\n",
    "    data=df_conserv_filtered,\n",
    "    x='monthly_income_amt',\n",
    "    bins='auto',\n",
    "    kde=True,\n",
    "    label=\"Консервативные инвесторы\",\n",
    "    stat='density',\n",
    "    common_norm=False,\n",
    "    color='salmon'\n",
    ")\n",
    "\n",
    "plt.title(\"Распределение ежемесячного дохода инвесторов\", fontsize=16)\n",
    "plt.xlabel(\"Ежемесячный доход\", fontsize=14)\n",
    "plt.ylabel(\"Плотность\", fontsize=14)\n",
    "plt.grid(axis='y', linestyle='--', alpha=0.5)\n",
    "plt.legend()\n",
    "plt.tight_layout()\n",
    "plt.show()\n",
    "plt.close()"
   ]
  },
  {
   "cell_type": "markdown",
   "id": "94616b53",
   "metadata": {},
   "source": [
    "ВЫВОДЫ\n",
    "- среди агрессивных инвесторов больше неженатых и разведенных, также больше доля бездетных\n",
    "- среди консервативных инвесторов больше доля женатых, больше доля людей с высшим образованием, больше доля тех, у кого есть дети\n",
    "- распределения месячных доходов очень схожи, но на удивление, пик в моде у консервативных инвесторов выше"
   ]
  },
  {
   "cell_type": "markdown",
   "id": "f6925711",
   "metadata": {},
   "source": [
    "## Итоговые подтвердившиеся гипотезы\n",
    "\n",
    "- в возрасте 28-30 и 54-56 лет люди более склонны к трейдингу и риску\n",
    "- в возрасте 18-22 инвесторы не используют большие денежные средства\n",
    "- больше всего склонны к риску люди с одним высшим или, наоборот, со средним образованием\n",
    "- объем портфеля имеет положительную корелляцию с оборотом \n",
    "- зависимость оборота и размера портфеля от активности в пульсе имеет вид экспоненциального распределения\n",
    "- Вдовцы и женатые - 2 самые активные группы пользователей\n",
    "- Вдовцы скорее выберут рисковые активы\n",
    "- Женатые скорее выберут консервативные активы\n",
    "- Чем крупнее инвестор, тем реже он использует автоследование\n",
    "- маржинальная торговля обратно пропорциональна сумме поплнений и баллансу по счету, то есть более крупные инвесторы не используют маржинальную торговлю\n",
    "- активность в пульсе обратно пропорциональна оборотам\n",
    "- чем активнее инвестор, тем с большей вероятностью он новичок\n",
    "- Существует корелляция между баллансом на дебетовых и сберегательных счетах и размером портфеля\n",
    "- Долг на кредитных счетах прямо пропорционален коэфициенту риска а также сумме пополнений\n",
    "- Сумма портфеля не связана с суммой на кредитных счетах\n",
    "- люди с двумя высшими и ученой степенью более склонны с инвестициям в золото\n",
    "- золото является прерогативой консервативных инвесторов\n",
    "- Оборот фондами Т-Банка меет очень сильную корелляцию с взвешенным индексом риска\n",
    "- среди агрессивных инвесторов больше неженатых и разведенных, также больше доля бездетных\n",
    "- среди консервативных инвесторов больше доля женатых, больше доля людей с высшим образованием, больше доля тех, у кого есть дети\n",
    "- распределения месячных доходов очень схожи, но на удивление, пик в моде у консервативных инвесторов выше\n",
    "\n",
    "\n",
    "##### Выводы\n",
    "\n",
    "- Возраст и семейное положение влияют на инвестиционное поведение\n",
    "- Есть два возрастных пика активности и риска\n",
    "- Женатые и вдовцы — разные поведенческие сегменты: вдовцы — более агрессивные, вероятно, из-за меньшего уровня обязательств или возрастного статуса\n",
    "\n",
    "\n",
    "- Баланс портфеля — индикатор зрелости и опыта: крупные инвесторы торгуют активно, но осторожно, избегая риска и автоследования\n",
    "- Маржинальная торговля и автоследование — инструменты скорее для новичков или агрессивных малых инвесторов\n",
    "\n",
    "\n",
    "- Образование влияет на тип инвестиционного поведения\n",
    "- Люди с продвинутым образованием склонны к инвестициям в золото\n",
    "\n",
    "\n",
    "- Пульс — инструмент вовлечения новых, но не крупных инвесторов\n",
    "- Часто активность в соц.сети является сигналом начинающего или мелкого инвестора\n",
    "\n",
    "\n",
    "- Использование кредитных средств не говорит о размере капитала — скорее, о риск-профиле и нестабильности\n",
    "\n",
    "\n",
    "- Есть фондовые инструменты, чётко связанные с поведением рисковых инвесторов\n",
    "\n",
    "- Среди агрессивных инвесторов больше неженатых и разведенных, также больше доля бездетных\n",
    "- Среди консервативных инвесторов больше доля женатых, больше доля людей с высшим образованием, больше доля тех, у кого есть дети\n",
    "- Распределения месячных доходов очень схожи, но на удивление, пик в моде у консервативных инвесторов выше\n",
    "\n"
   ]
  },
  {
   "cell_type": "markdown",
   "id": "91ca93d5",
   "metadata": {},
   "source": [
    "#### Данные для оценки доли рынка"
   ]
  },
  {
   "cell_type": "code",
   "execution_count": null,
   "id": "96116246",
   "metadata": {},
   "outputs": [],
   "source": [
    "df.portf_total_amt.sum()"
   ]
  },
  {
   "cell_type": "code",
   "execution_count": null,
   "id": "5819026a",
   "metadata": {},
   "outputs": [],
   "source": [
    "df.shape"
   ]
  },
  {
   "cell_type": "code",
   "execution_count": null,
   "id": "245a0151",
   "metadata": {},
   "outputs": [],
   "source": [
    "df.portf_total_amt.mean()"
   ]
  },
  {
   "cell_type": "code",
   "execution_count": null,
   "id": "282f19ad",
   "metadata": {},
   "outputs": [],
   "source": [
    "df.portf_total_amt.median()"
   ]
  },
  {
   "cell_type": "code",
   "execution_count": null,
   "id": "8c9d853d",
   "metadata": {},
   "outputs": [],
   "source": [
    "\n",
    "plt.figure(figsize=(16, 5), dpi=300)\n",
    "\n",
    "sns.histplot(\n",
    "    data=df,\n",
    "    x='portf_total_amt',\n",
    "    bins=200,\n",
    "    stat='density',\n",
    "    common_norm=False,\n",
    "    color='salmon'\n",
    ")\n",
    "\n",
    "plt.title(\"Распределение суммы портфелей инвесторов\", fontsize=16)\n",
    "plt.xlabel(\"Сумма портфеля, ₽\", fontsize=14)\n",
    "plt.ylabel(\"Плотность\", fontsize=14)\n",
    "plt.yscale(\"log\")\n",
    "plt.grid(axis='y', linestyle='--', alpha=0.5)\n",
    "plt.tight_layout()\n",
    "plt.show()\n",
    "plt.close()\n",
    "\n",
    "\n",
    "plt.figure(figsize=(14,6), dpi=150)\n",
    "\n",
    "sns.ecdfplot(data=df, x='portf_total_amt')\n",
    "plt.xscale('log')\n",
    "plt.title(\"Кумулятивное распределение портфелей инвесторов\", fontsize=16)\n",
    "plt.xlabel(\"Сумма портфеля, ₽ (лог)\", fontsize=14)\n",
    "plt.ylabel(\"Доля инвесторов\", fontsize=14)\n",
    "plt.grid(True, linestyle='--', alpha=0.5)\n",
    "plt.tight_layout()\n",
    "plt.show()"
   ]
  },
  {
   "cell_type": "code",
   "execution_count": null,
   "id": "ea7b6d21",
   "metadata": {},
   "outputs": [],
   "source": [
    "fig, ax1 = plt.subplots(figsize=(16,6), dpi=150)\n",
    "\n",
    "\n",
    "sns.histplot(\n",
    "    data=df,\n",
    "    x='portf_total_amt',\n",
    "    bins=\"auto\",\n",
    "    stat='density',\n",
    "    common_norm=False,\n",
    "    color='salmon',\n",
    "    alpha=0.6,\n",
    "    label='Плотность портфелей',\n",
    "    ax=ax1\n",
    ")\n",
    "ax1.set_xlabel(\"Сумма портфеля, ₽\", fontsize=14)\n",
    "ax1.set_ylabel(\"Плотность\", fontsize=14)\n",
    "ax1.set_xscale('log')\n",
    "ax1.set_yscale('log')\n",
    "ax1.grid(axis='y', linestyle='--', alpha=0.5)\n",
    "ax1.legend(loc='upper left')\n",
    "\n",
    "\n",
    "ax2 = ax1.twinx()\n",
    "sns.ecdfplot(\n",
    "    data=df,\n",
    "    x='portf_total_amt',\n",
    "    ax=ax2,\n",
    "    color='steelblue',\n",
    "    linewidth=2,\n",
    "    label='Кумулятивная доля инвесторов'\n",
    ")\n",
    "ax2.set_ylabel(\"Доля инвесторов\", fontsize=14)\n",
    "ax2.legend(loc='lower right')\n",
    "\n",
    "plt.title(\"Распределение и кумулятивная доля портфелей инвесторов\", fontsize=16)\n",
    "fig.tight_layout()\n",
    "plt.show()"
   ]
  }
 ],
 "metadata": {
  "kernelspec": {
   "display_name": "venv (3.12.3)",
   "language": "python",
   "name": "python3"
  },
  "language_info": {
   "codemirror_mode": {
    "name": "ipython",
    "version": 3
   },
   "file_extension": ".py",
   "mimetype": "text/x-python",
   "name": "python",
   "nbconvert_exporter": "python",
   "pygments_lexer": "ipython3",
   "version": "3.12.3"
  }
 },
 "nbformat": 4,
 "nbformat_minor": 5
}
